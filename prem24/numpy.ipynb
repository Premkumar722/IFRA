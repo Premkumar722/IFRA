{
 "cells": [
  {
   "cell_type": "markdown",
   "id": "3018d053-1cd4-4697-beaa-1a2ac101ebf9",
   "metadata": {},
   "source": [
    "# numpy products"
   ]
  },
  {
   "cell_type": "code",
   "execution_count": 2,
   "id": "0b01ef2b-43e3-4c17-a2c7-f43a273f3ab7",
   "metadata": {},
   "outputs": [],
   "source": [
    "import numpy as np"
   ]
  },
  {
   "cell_type": "markdown",
   "id": "1e0d9b74-d9a0-4ffc-b791-1cd91b12d6b3",
   "metadata": {},
   "source": [
    "### 1-D array in numpy"
   ]
  },
  {
   "cell_type": "code",
   "execution_count": 9,
   "id": "c38fd639-bfc3-41ce-b602-f5982b327326",
   "metadata": {},
   "outputs": [
    {
     "name": "stdout",
     "output_type": "stream",
     "text": [
      "[1 2 3 4 5 6]\n",
      "<class 'numpy.ndarray'>\n"
     ]
    }
   ],
   "source": [
    "arr = np.array([1,2,3,4,5,6])\n",
    "print(arr)\n",
    "print(type(arr))"
   ]
  },
  {
   "cell_type": "code",
   "execution_count": 11,
   "id": "9b1c200f-acf4-4bcb-9c8c-3d76e789ca9c",
   "metadata": {},
   "outputs": [
    {
     "name": "stdout",
     "output_type": "stream",
     "text": [
      "42\n"
     ]
    }
   ],
   "source": [
    "arr1 = np.array(42)\n",
    "print(arr1)"
   ]
  },
  {
   "cell_type": "markdown",
   "id": "d363df24-1e7c-4638-b4b5-1305f17829a1",
   "metadata": {},
   "source": [
    "### 2-D array"
   ]
  },
  {
   "cell_type": "code",
   "execution_count": 26,
   "id": "6924796c-9ec6-431f-af0c-2abb8479a6cf",
   "metadata": {},
   "outputs": [
    {
     "name": "stdout",
     "output_type": "stream",
     "text": [
      "[[1 2 3]\n",
      " [4 5 6]]\n"
     ]
    }
   ],
   "source": [
    "arr2 = np.array([[1,2,3],[4,5,6]])\n",
    "print(arr2)"
   ]
  },
  {
   "cell_type": "markdown",
   "id": "c8df1133-f90e-4441-a600-79619c847433",
   "metadata": {},
   "source": [
    "### 3-D array"
   ]
  },
  {
   "cell_type": "code",
   "execution_count": 30,
   "id": "d47a6c3c-3902-435c-a7b3-62835e1af4db",
   "metadata": {},
   "outputs": [
    {
     "name": "stdout",
     "output_type": "stream",
     "text": [
      "[[[1 2 3]\n",
      "  [4 5 6]]\n",
      "\n",
      " [[1 2 3]\n",
      "  [4 5 6]]]\n"
     ]
    }
   ],
   "source": [
    "arr3 = np.array([[[1, 2, 3], [4, 5, 6]], [[1, 2, 3], [4, 5, 6]]])\n",
    "print(arr3)"
   ]
  },
  {
   "cell_type": "markdown",
   "id": "ceb58b72-2d64-4705-aaa7-3afbcbdf98e4",
   "metadata": {},
   "source": [
    "### checking dimensions"
   ]
  },
  {
   "cell_type": "code",
   "execution_count": 36,
   "id": "4170505d-e823-44b5-90e7-c07885ec87ff",
   "metadata": {},
   "outputs": [
    {
     "name": "stdout",
     "output_type": "stream",
     "text": [
      "1\n",
      "0\n",
      "2\n",
      "3\n"
     ]
    }
   ],
   "source": [
    "print(arr.ndim)\n",
    "print(arr1.ndim)\n",
    "print(arr2.ndim)\n",
    "print(arr3.ndim)"
   ]
  },
  {
   "cell_type": "markdown",
   "id": "1b882000-a4fe-4ebe-8803-7f59155e5f39",
   "metadata": {},
   "source": [
    "## indexing\n",
    "### add an elements from diff arrays"
   ]
  },
  {
   "cell_type": "code",
   "execution_count": 53,
   "id": "f440a64d-938b-438c-9ddb-79f5fd71a13f",
   "metadata": {},
   "outputs": [
    {
     "name": "stdout",
     "output_type": "stream",
     "text": [
      "8\n"
     ]
    }
   ],
   "source": [
    "a = arr[1]+arr2[1,2]\n",
    "print(a)"
   ]
  },
  {
   "cell_type": "code",
   "execution_count": 57,
   "id": "10b6b95b-a94c-49cf-9d98-b7f9f214ee8c",
   "metadata": {},
   "outputs": [
    {
     "name": "stdout",
     "output_type": "stream",
     "text": [
      "['3', 'and', '3']\n"
     ]
    }
   ],
   "source": [
    "a = arr3[1,0,2]\n",
    "b = arr3[0,0,2]\n",
    "print(\"{} and {}\".format(a,b).split(\" \"))\n"
   ]
  },
  {
   "cell_type": "markdown",
   "id": "1155e343-50a5-481c-8444-79f35fe6ff2c",
   "metadata": {},
   "source": [
    "### printing last two numbers using\n",
    "# Slicing"
   ]
  },
  {
   "cell_type": "code",
   "execution_count": 65,
   "id": "e24b681b-4832-4ee6-912b-f2391ace442e",
   "metadata": {},
   "outputs": [
    {
     "name": "stdout",
     "output_type": "stream",
     "text": [
      "[[ 4  5]\n",
      " [14 15]\n",
      " [ 9 10]]\n"
     ]
    }
   ],
   "source": [
    "arr4 = np.array([[1, 2, 3, 4, 5], [11, 12, 13, 14, 15], [6, 7, 8, 9, 10]])\n",
    "print(arr4[0::, -2:])"
   ]
  },
  {
   "cell_type": "code",
   "execution_count": null,
   "id": "3f52a030-74d7-4d65-871e-44aa9c73648f",
   "metadata": {},
   "outputs": [],
   "source": []
  }
 ],
 "metadata": {
  "kernelspec": {
   "display_name": "Python 3 (ipykernel)",
   "language": "python",
   "name": "python3"
  },
  "language_info": {
   "codemirror_mode": {
    "name": "ipython",
    "version": 3
   },
   "file_extension": ".py",
   "mimetype": "text/x-python",
   "name": "python",
   "nbconvert_exporter": "python",
   "pygments_lexer": "ipython3",
   "version": "3.12.4"
  }
 },
 "nbformat": 4,
 "nbformat_minor": 5
}
